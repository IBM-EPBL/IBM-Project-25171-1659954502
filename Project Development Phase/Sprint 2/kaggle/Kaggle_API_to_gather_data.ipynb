{
  "nbformat": 4,
  "nbformat_minor": 0,
  "metadata": {
    "colab": {
      "provenance": []
    },
    "kernelspec": {
      "name": "python3",
      "display_name": "Python 3"
    },
    "language_info": {
      "name": "python"
    }
  },
  "cells": [
    {
      "cell_type": "code",
      "execution_count": null,
      "metadata": {
        "id": "q0XHnzBzRbZ8"
      },
      "outputs": [],
      "source": [
        "!pip install -q kaggle"
      ]
    },
    {
      "cell_type": "code",
      "source": [
        "!mkdir ~/.kaggle"
      ],
      "metadata": {
        "id": "q2WaqCZoSNbm"
      },
      "execution_count": null,
      "outputs": []
    },
    {
      "cell_type": "code",
      "source": [
        "!cp kaggle.json ~/.kaggle/ "
      ],
      "metadata": {
        "id": "zjvxqKcFSP-N"
      },
      "execution_count": null,
      "outputs": []
    },
    {
      "cell_type": "code",
      "source": [
        "!chmod 600 ~/.kaggle/kaggle.json"
      ],
      "metadata": {
        "id": "f6uycif5STKM"
      },
      "execution_count": null,
      "outputs": []
    },
    {
      "cell_type": "code",
      "source": [
        "!kaggle datasets download -d jayashreesridharan/employee-attrition"
      ],
      "metadata": {
        "colab": {
          "base_uri": "https://localhost:8080/"
        },
        "id": "ArW5ORWWSa5N",
        "outputId": "cdc44707-cb5d-4494-8a62-c214fec5d11a"
      },
      "execution_count": null,
      "outputs": [
        {
          "output_type": "stream",
          "name": "stdout",
          "text": [
            "Downloading employee-attrition.zip to /content\n",
            "\r  0% 0.00/10.3M [00:00<?, ?B/s]\r 48% 5.00M/10.3M [00:00<00:00, 51.9MB/s]\n",
            "\r100% 10.3M/10.3M [00:00<00:00, 70.7MB/s]\n"
          ]
        }
      ]
    },
    {
      "cell_type": "code",
      "source": [
        "!unzip /content/employee-attrition.zip"
      ],
      "metadata": {
        "colab": {
          "base_uri": "https://localhost:8080/"
        },
        "id": "0i31Sb7-VPSk",
        "outputId": "49e26607-8e98-4975-bed4-302c85028ccf"
      },
      "execution_count": null,
      "outputs": [
        {
          "output_type": "stream",
          "name": "stdout",
          "text": [
            "Archive:  /content/employee-attrition.zip\n",
            "  inflating: Dataset_employee/data_dictionary.xlsx  \n",
            "  inflating: Dataset_employee/employee_survey_data.csv  \n",
            "  inflating: Dataset_employee/general_data.csv  \n",
            "  inflating: Dataset_employee/in_time.csv  \n",
            "  inflating: Dataset_employee/manager_survey_data.csv  \n",
            "  inflating: Dataset_employee/out_time.csv  \n"
          ]
        }
      ]
    }
  ]
}